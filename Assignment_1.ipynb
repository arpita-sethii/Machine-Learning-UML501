{
  "nbformat": 4,
  "nbformat_minor": 0,
  "metadata": {
    "colab": {
      "provenance": []
    },
    "kernelspec": {
      "name": "python3",
      "display_name": "Python 3"
    },
    "language_info": {
      "name": "python"
    }
  },
  "cells": [
    {
      "cell_type": "code",
      "execution_count": 4,
      "metadata": {
        "colab": {
          "base_uri": "https://localhost:8080/"
        },
        "id": "mMSylw8TxJm5",
        "outputId": "81547c4f-a081-4589-8cb6-7a550ea221ae"
      },
      "outputs": [
        {
          "output_type": "execute_result",
          "data": {
            "text/plain": [
              "array([6, 5, 4, 3, 2, 1])"
            ]
          },
          "metadata": {},
          "execution_count": 4
        }
      ],
      "source": [
        "import numpy as np\n",
        "arr=np.array([1,2,3,4,5,6])\n",
        "reversed_arr=arr[::-1]\n",
        "reversed_arr"
      ]
    },
    {
      "cell_type": "code",
      "source": [
        "array1 = np.array([[1, 2, 3], [2, 4, 5], [1, 2, 3]])\n",
        "\n",
        "\n",
        "flattened1 = array1.flatten()\n",
        "flattened1"
      ],
      "metadata": {
        "colab": {
          "base_uri": "https://localhost:8080/"
        },
        "id": "Aw6BFoEbyhgz",
        "outputId": "d6ba4c67-f77e-45fc-ebea-1e2d200c9576"
      },
      "execution_count": 6,
      "outputs": [
        {
          "output_type": "execute_result",
          "data": {
            "text/plain": [
              "array([1, 2, 3, 2, 4, 5, 1, 2, 3])"
            ]
          },
          "metadata": {},
          "execution_count": 6
        }
      ]
    },
    {
      "cell_type": "code",
      "source": [
        "arr1 = np.array([[1, 2], [3, 4]])\n",
        "arr2 = np.array([[1, 2], [3, 4]])\n",
        "\n",
        "\n",
        "comparison = arr1 == arr2\n",
        "\n",
        "equal = np.array_equal(arr1, arr2)\n",
        "\n",
        "print(comparison)\n",
        "print(equal)\n"
      ],
      "metadata": {
        "colab": {
          "base_uri": "https://localhost:8080/"
        },
        "id": "Q0iEIYm2zK0R",
        "outputId": "2726779c-7cb1-44e1-bf95-2f234406bbf3"
      },
      "execution_count": 7,
      "outputs": [
        {
          "output_type": "stream",
          "name": "stdout",
          "text": [
            "[[ True  True]\n",
            " [ True  True]]\n",
            "True\n"
          ]
        }
      ]
    },
    {
      "cell_type": "code",
      "source": [
        "from collections import Counter\n",
        "\n",
        "\n",
        "x = np.array([1, 2, 3, 4, 5, 1, 2, 1, 1, 1])\n",
        "most_freq_x = Counter(x).most_common(1)[0]\n",
        "indices_x = np.where(x == most_freq_x[0])[0]\n",
        "\n",
        "\n",
        "y = np.array([1, 1, 1, 2, 3, 4, 2, 4, 3, 3])\n",
        "most_freq_y = Counter(y).most_common(1)[0]\n",
        "indices_y = np.where(y == most_freq_y[0])[0]\n",
        "\n",
        "print(most_freq_x, indices_x)\n",
        "print(most_freq_y, indices_y)\n"
      ],
      "metadata": {
        "colab": {
          "base_uri": "https://localhost:8080/"
        },
        "id": "s99PIwnOzR1p",
        "outputId": "3794442f-946e-4c8b-cf29-350e0dd785e4"
      },
      "execution_count": 8,
      "outputs": [
        {
          "output_type": "stream",
          "name": "stdout",
          "text": [
            "(np.int64(1), 5) [0 5 7 8 9]\n",
            "(np.int64(1), 3) [0 1 2]\n"
          ]
        }
      ]
    },
    {
      "cell_type": "code",
      "source": [
        "gfg = np.matrix('[4, 1, 9; 12, 3, 1; 4, 5, 6]')\n",
        "\n",
        "\n",
        "total_sum = gfg.sum()\n",
        "\n",
        "row_sum = gfg.sum(axis=1)\n",
        "\n",
        "col_sum = gfg.sum(axis=0)\n",
        "\n",
        "print(total_sum, row_sum, col_sum)\n"
      ],
      "metadata": {
        "colab": {
          "base_uri": "https://localhost:8080/"
        },
        "id": "IhpvPflCzZMx",
        "outputId": "0b6ea91e-ef4a-4e34-9834-6e6637627135"
      },
      "execution_count": 9,
      "outputs": [
        {
          "output_type": "stream",
          "name": "stdout",
          "text": [
            "45 [[14]\n",
            " [16]\n",
            " [15]] [[20  9 16]]\n"
          ]
        }
      ]
    },
    {
      "cell_type": "code",
      "source": [
        "n_array = np.array([[55, 25, 15], [30, 44, 2], [11, 45, 77]])\n",
        "\n",
        "\n",
        "diag_sum = np.trace(n_array)\n",
        "\n",
        "\n",
        "eigen_values, eigen_vectors = np.linalg.eig(n_array)\n",
        "\n",
        "\n",
        "inverse = np.linalg.inv(n_array)\n",
        "\n",
        "\n",
        "det = np.linalg.det(n_array)\n",
        "\n",
        "print(diag_sum)\n",
        "print(eigen_values)\n",
        "print( eigen_vectors)\n",
        "print(inverse)\n",
        "print(det)\n"
      ],
      "metadata": {
        "colab": {
          "base_uri": "https://localhost:8080/"
        },
        "id": "e3E2qslUzjcR",
        "outputId": "d3598863-2d09-460e-8a59-49cb37eddfaa"
      },
      "execution_count": 11,
      "outputs": [
        {
          "output_type": "stream",
          "name": "stdout",
          "text": [
            "176\n",
            "[98.16835147 28.097044   49.73460452]\n",
            "[[ 0.4574917   0.34637121 -0.15017693]\n",
            " [ 0.28447814 -0.72784061 -0.4852124 ]\n",
            " [ 0.84248058  0.59184038  0.8614034 ]]\n",
            "[[ 0.02404141 -0.00911212 -0.00444671]\n",
            " [-0.01667882  0.02966905  0.0024785 ]\n",
            " [ 0.00631287 -0.01603732  0.01217379]]\n",
            "137180.0000000001\n"
          ]
        }
      ]
    },
    {
      "cell_type": "code",
      "source": [
        "p1 = np.array([[1, 2], [2, 3]])\n",
        "q1 = np.array([[4, 5], [6, 7]])\n",
        "\n",
        "np.dot(p1,q1)"
      ],
      "metadata": {
        "colab": {
          "base_uri": "https://localhost:8080/"
        },
        "id": "ijZUCsBozsFx",
        "outputId": "0807cb50-4422-45df-bceb-69efdc6ea1d8"
      },
      "execution_count": 12,
      "outputs": [
        {
          "output_type": "execute_result",
          "data": {
            "text/plain": [
              "array([[16, 19],\n",
              "       [26, 31]])"
            ]
          },
          "metadata": {},
          "execution_count": 12
        }
      ]
    },
    {
      "cell_type": "code",
      "source": [
        "cov1 = np.cov(p1.T, q1.T)\n",
        "cov1"
      ],
      "metadata": {
        "colab": {
          "base_uri": "https://localhost:8080/"
        },
        "id": "-y_xIwNZ0Kwh",
        "outputId": "2ffdccea-9566-4dfe-af53-f1253183aaec"
      },
      "execution_count": 14,
      "outputs": [
        {
          "output_type": "execute_result",
          "data": {
            "text/plain": [
              "array([[0.5, 0.5, 1. , 1. ],\n",
              "       [0.5, 0.5, 1. , 1. ],\n",
              "       [1. , 1. , 2. , 2. ],\n",
              "       [1. , 1. , 2. , 2. ]])"
            ]
          },
          "metadata": {},
          "execution_count": 14
        }
      ]
    },
    {
      "cell_type": "code",
      "source": [
        "x = np.array([[2, 3, 4], [3, 2, 9]])\n",
        "y = np.array([[1, 5, 0], [5, 10, 3]])\n",
        "inner = np.inner(x, y)\n",
        "print(\"inner : \")\n",
        "print(inner)\n",
        "\n",
        "outer = np.outer(x, y)\n",
        "print(\"outer : \")\n",
        "print(outer)\n",
        "\n",
        "\n",
        "from itertools import product\n",
        "cartesian = np.array(list(product(x.flatten(), y.flatten())))\n",
        "print(\"cartesian:\" )\n",
        "print(cartesian)"
      ],
      "metadata": {
        "colab": {
          "base_uri": "https://localhost:8080/"
        },
        "id": "4OhDyxzl0P7p",
        "outputId": "d9f6dac1-30af-4d48-9c96-28f7897ad3d3"
      },
      "execution_count": 21,
      "outputs": [
        {
          "output_type": "stream",
          "name": "stdout",
          "text": [
            "inner : \n",
            "[[17 52]\n",
            " [13 62]]\n",
            "outer : \n",
            "[[ 2 10  0 10 20  6]\n",
            " [ 3 15  0 15 30  9]\n",
            " [ 4 20  0 20 40 12]\n",
            " [ 3 15  0 15 30  9]\n",
            " [ 2 10  0 10 20  6]\n",
            " [ 9 45  0 45 90 27]]\n",
            "cartesian:\n",
            "[[ 2  1]\n",
            " [ 2  5]\n",
            " [ 2  0]\n",
            " [ 2  5]\n",
            " [ 2 10]\n",
            " [ 2  3]\n",
            " [ 3  1]\n",
            " [ 3  5]\n",
            " [ 3  0]\n",
            " [ 3  5]\n",
            " [ 3 10]\n",
            " [ 3  3]\n",
            " [ 4  1]\n",
            " [ 4  5]\n",
            " [ 4  0]\n",
            " [ 4  5]\n",
            " [ 4 10]\n",
            " [ 4  3]\n",
            " [ 3  1]\n",
            " [ 3  5]\n",
            " [ 3  0]\n",
            " [ 3  5]\n",
            " [ 3 10]\n",
            " [ 3  3]\n",
            " [ 2  1]\n",
            " [ 2  5]\n",
            " [ 2  0]\n",
            " [ 2  5]\n",
            " [ 2 10]\n",
            " [ 2  3]\n",
            " [ 9  1]\n",
            " [ 9  5]\n",
            " [ 9  0]\n",
            " [ 9  5]\n",
            " [ 9 10]\n",
            " [ 9  3]]\n"
          ]
        }
      ]
    },
    {
      "cell_type": "code",
      "source": [
        "array = np.array([[1, -2, 3],[-4, 5, -6]])\n",
        "abs_array = np.abs(array)\n",
        "\n",
        "\n",
        "flat = array.flatten()\n",
        "print(flat)"
      ],
      "metadata": {
        "colab": {
          "base_uri": "https://localhost:8080/"
        },
        "id": "oaCH9ENS0Z-I",
        "outputId": "5b29b567-091a-4245-b34e-6049f4e72c6c"
      },
      "execution_count": 22,
      "outputs": [
        {
          "output_type": "stream",
          "name": "stdout",
          "text": [
            "[ 1 -2  3 -4  5 -6]\n"
          ]
        }
      ]
    },
    {
      "cell_type": "code",
      "source": [
        "p_25=np.percentile(array, 25)\n",
        "p_25"
      ],
      "metadata": {
        "colab": {
          "base_uri": "https://localhost:8080/"
        },
        "id": "IrtSSd4Z1UcS",
        "outputId": "b05a0245-69de-4e93-95d0-bd4b6dc7fd64"
      },
      "execution_count": 23,
      "outputs": [
        {
          "output_type": "execute_result",
          "data": {
            "text/plain": [
              "np.float64(-3.5)"
            ]
          },
          "metadata": {},
          "execution_count": 23
        }
      ]
    },
    {
      "cell_type": "code",
      "source": [
        "p_50=np.percentile(array,50)\n",
        "p_50"
      ],
      "metadata": {
        "colab": {
          "base_uri": "https://localhost:8080/"
        },
        "id": "AcVgfGsN1ZM5",
        "outputId": "cce82fae-38fc-45fc-8352-0ba532ce15d0"
      },
      "execution_count": 24,
      "outputs": [
        {
          "output_type": "execute_result",
          "data": {
            "text/plain": [
              "np.float64(-0.5)"
            ]
          },
          "metadata": {},
          "execution_count": 24
        }
      ]
    },
    {
      "cell_type": "code",
      "source": [
        "p_75=np.percentile(array,75)\n",
        "p_75"
      ],
      "metadata": {
        "colab": {
          "base_uri": "https://localhost:8080/"
        },
        "id": "Xf9LR0Fy1eQI",
        "outputId": "976672b4-5eeb-4600-db8d-a88a290d1ad6"
      },
      "execution_count": 25,
      "outputs": [
        {
          "output_type": "execute_result",
          "data": {
            "text/plain": [
              "np.float64(2.5)"
            ]
          },
          "metadata": {},
          "execution_count": 25
        }
      ]
    },
    {
      "cell_type": "code",
      "source": [
        "percent_col = np.percentile(array, [25, 50, 75], axis=0)\n",
        "percent_row = np.percentile(array, [25, 50, 75], axis=1)\n",
        "percent_row\n",
        "\n"
      ],
      "metadata": {
        "colab": {
          "base_uri": "https://localhost:8080/"
        },
        "id": "wLZaZJEb1jKI",
        "outputId": "5e097f09-053f-4f26-a08b-e6f5e124da6a"
      },
      "execution_count": 28,
      "outputs": [
        {
          "output_type": "execute_result",
          "data": {
            "text/plain": [
              "array([[-0.5, -5. ],\n",
              "       [ 1. , -4. ],\n",
              "       [ 2. ,  0.5]])"
            ]
          },
          "metadata": {},
          "execution_count": 28
        }
      ]
    },
    {
      "cell_type": "code",
      "source": [
        "percent_col"
      ],
      "metadata": {
        "colab": {
          "base_uri": "https://localhost:8080/"
        },
        "id": "1s67GLT019AO",
        "outputId": "d68ade5d-8d80-4f79-9187-c8b4d9853254"
      },
      "execution_count": 29,
      "outputs": [
        {
          "output_type": "execute_result",
          "data": {
            "text/plain": [
              "array([[-2.75, -0.25, -3.75],\n",
              "       [-1.5 ,  1.5 , -1.5 ],\n",
              "       [-0.25,  3.25,  0.75]])"
            ]
          },
          "metadata": {},
          "execution_count": 29
        }
      ]
    },
    {
      "cell_type": "code",
      "source": [
        "mean_a = np.mean(flat)\n",
        "median_a = np.median(flat)\n",
        "std_a = np.std(flat)\n",
        "\n",
        "mean_a"
      ],
      "metadata": {
        "colab": {
          "base_uri": "https://localhost:8080/"
        },
        "id": "Ieb6cU_n2AFx",
        "outputId": "cde1493f-e648-49ec-b922-efa17b1f869c"
      },
      "execution_count": 30,
      "outputs": [
        {
          "output_type": "execute_result",
          "data": {
            "text/plain": [
              "np.float64(-0.5)"
            ]
          },
          "metadata": {},
          "execution_count": 30
        }
      ]
    },
    {
      "cell_type": "code",
      "source": [
        "median_a"
      ],
      "metadata": {
        "colab": {
          "base_uri": "https://localhost:8080/"
        },
        "id": "8CxF6Isj2E2h",
        "outputId": "84c52ac7-9d4c-47a7-937c-b3afa0c29dc7"
      },
      "execution_count": 32,
      "outputs": [
        {
          "output_type": "execute_result",
          "data": {
            "text/plain": [
              "np.float64(-0.5)"
            ]
          },
          "metadata": {},
          "execution_count": 32
        }
      ]
    },
    {
      "cell_type": "code",
      "source": [
        "std_a"
      ],
      "metadata": {
        "colab": {
          "base_uri": "https://localhost:8080/"
        },
        "id": "jXeF7YvP2G1A",
        "outputId": "13642490-77ef-42c4-8f38-9f984dc6d1f0"
      },
      "execution_count": 33,
      "outputs": [
        {
          "output_type": "execute_result",
          "data": {
            "text/plain": [
              "np.float64(3.8622100754188224)"
            ]
          },
          "metadata": {},
          "execution_count": 33
        }
      ]
    },
    {
      "cell_type": "code",
      "source": [
        "mean_col = np.mean(array, axis=0)\n",
        "median_col = np.median(array, axis=0)\n",
        "std_col = np.std(array, axis=0)\n",
        "\n",
        "mean_col\n",
        "median_col\n",
        "std_col\n",
        "\n",
        "\n",
        "mean_row = np.mean(array, axis=1)\n",
        "median_row = np.median(array, axis=1)\n",
        "std_row = np.std(array, axis=1)\n",
        "\n",
        "mean_row\n",
        "median_row\n",
        "std_row"
      ],
      "metadata": {
        "colab": {
          "base_uri": "https://localhost:8080/"
        },
        "id": "gICwrShb2KAw",
        "outputId": "ded313af-6cab-4b03-baba-d697809f6eaa"
      },
      "execution_count": 34,
      "outputs": [
        {
          "output_type": "execute_result",
          "data": {
            "text/plain": [
              "array([2.05480467, 4.78423336])"
            ]
          },
          "metadata": {},
          "execution_count": 34
        }
      ]
    },
    {
      "cell_type": "code",
      "source": [
        "a = np.array([-1.8, -1.6, -0.5, 0.5,1.6, 1.8, 3.0])"
      ],
      "metadata": {
        "id": "Qrg6YsRx2Z55"
      },
      "execution_count": 36,
      "outputs": []
    },
    {
      "cell_type": "code",
      "source": [
        "floors = np.floor(a)\n",
        "ceilings = np.ceil(a)\n",
        "truncated = np.trunc(a)\n",
        "rounded = np.round(a)\n",
        "\n",
        "print(floors, ceilings, truncated, rounded)\n"
      ],
      "metadata": {
        "colab": {
          "base_uri": "https://localhost:8080/"
        },
        "id": "wk0f1Rlm2ibg",
        "outputId": "353a45c2-e1c1-416c-ed07-824eea895b96"
      },
      "execution_count": 37,
      "outputs": [
        {
          "output_type": "stream",
          "name": "stdout",
          "text": [
            "[-2. -2. -1.  0.  1.  1.  3.] [-1. -1. -0.  1.  2.  2.  3.] [-1. -1. -0.  0.  1.  1.  3.] [-2. -2. -0.  0.  2.  2.  3.]\n"
          ]
        }
      ]
    },
    {
      "cell_type": "code",
      "source": [
        "array = np.array([10, 52, 62, 16, 16, 54, 453])\n",
        "\n",
        "sorted_array = np.sort(array)\n",
        "sorted_indices = np.argsort(array)\n",
        "smallest_4 = np.partition(array, 3)[:4]\n",
        "largest_5 = np.partition(array, -5)[-5:]\n",
        "\n",
        "print(sorted_array, sorted_indices, smallest_4, largest_5)\n"
      ],
      "metadata": {
        "colab": {
          "base_uri": "https://localhost:8080/"
        },
        "id": "DGPsAgk12noY",
        "outputId": "2a0a330d-40c8-4e48-9ddd-64ed87580b55"
      },
      "execution_count": 38,
      "outputs": [
        {
          "output_type": "stream",
          "name": "stdout",
          "text": [
            "[ 10  16  16  52  54  62 453] [0 3 4 1 5 2 6] [10 16 16 52] [ 16  52  54  62 453]\n"
          ]
        }
      ]
    },
    {
      "cell_type": "code",
      "source": [
        "\n",
        "array = np.array([1.0, 1.2, 2.2, 2.0, 3.0, 2.0])\n",
        "\n",
        "int_elements = array[array == array.astype(int)]\n",
        "float_elements = array[array != array.astype(int)]\n",
        "\n",
        "print(int_elements, float_elements)\n"
      ],
      "metadata": {
        "colab": {
          "base_uri": "https://localhost:8080/"
        },
        "id": "lfNtIDe72tNZ",
        "outputId": "0c503726-927f-4945-c5b0-93dc4aca5a9b"
      },
      "execution_count": 39,
      "outputs": [
        {
          "output_type": "stream",
          "name": "stdout",
          "text": [
            "[1. 2. 3. 2.] [1.2 2.2]\n"
          ]
        }
      ]
    },
    {
      "cell_type": "code",
      "source": [
        "from PIL import Image\n",
        "import numpy as np\n",
        "\n",
        "def img_to_array(path, save_path='image_array.txt'):\n",
        "    img = Image.open(path)\n",
        "    arr = np.array(img)\n",
        "\n",
        "    if len(arr.shape) == 2:\n",
        "        print(\"Grayscale Image\")\n",
        "    elif len(arr.shape) == 3:\n",
        "        print(\"RGB Image\")\n",
        "\n",
        "    np.savetxt(save_path, arr.reshape(-1, arr.shape[-1]) if len(arr.shape) == 3 else arr, fmt='%d')\n",
        "    return arr\n"
      ],
      "metadata": {
        "id": "tdjKLHRH3IcA"
      },
      "execution_count": 40,
      "outputs": []
    },
    {
      "cell_type": "code",
      "source": [],
      "metadata": {
        "id": "CT8Ib3h33LrY"
      },
      "execution_count": null,
      "outputs": []
    }
  ]
}