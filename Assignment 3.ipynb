{
 "cells": [
  {
   "cell_type": "markdown",
   "id": "f4effe50-ffb6-421d-904d-4463d8f9a293",
   "metadata": {},
   "source": [
    "# part 1\n"
   ]
  },
  {
   "cell_type": "code",
   "execution_count": 5,
   "id": "73413c6a-1081-4e43-a2b7-3ed88f68f08d",
   "metadata": {},
   "outputs": [
    {
     "name": "stdout",
     "output_type": "stream",
     "text": [
      "         Education      Occupation Gender MaritalStatus  HomeOwnerFlag  \\\n",
      "0        Bachelors        Clerical      M             M              1   \n",
      "1  Partial College        Clerical      M             M              1   \n",
      "2        Bachelors        Clerical      F             S              0   \n",
      "3  Partial College  Skilled Manual      M             M              1   \n",
      "4  Partial College  Skilled Manual      M             S              1   \n",
      "\n",
      "   NumberCarsOwned  NumberChildrenAtHome  TotalChildren  YearlyIncome  \\\n",
      "0                3                     0              1         81916   \n",
      "1                2                     1              2         81076   \n",
      "2                3                     0              0         86387   \n",
      "3                2                     1              2         61481   \n",
      "4                1                     0              0         51804   \n",
      "\n",
      "  CountryRegionName    StateProvinceName         City LastUpdated  Age  \n",
      "0         Australia      New South Wales   Wollongong  2017-03-06   29  \n",
      "1            Canada     British Columbia      Shawnee  2017-03-06   44  \n",
      "2     United States           California  West Covina  2017-03-06   31  \n",
      "3    United Kingdom              England    Liverpool  2017-03-06   39  \n",
      "4           Germany  Nordrhein-Westfalen        Werne  2017-03-06   42  \n"
     ]
    }
   ],
   "source": [
    "import pandas as pd\n",
    "from pathlib import Path\n",
    "\n",
    "# Loaded  the CSV\n",
    "df = pd.read_csv(\"C:\\\\Users\\\\Win10\\\\Downloads\\\\archive (2)\\\\dataset_ml\\\\AWCustomers.csv\")\n",
    "\n",
    "selected_features = [\n",
    "    \"Education\", \"Occupation\", \"Gender\", \"MaritalStatus\", \"HomeOwnerFlag\",\n",
    "    \"NumberCarsOwned\", \"NumberChildrenAtHome\", \"TotalChildren\",\n",
    "    \"YearlyIncome\", \"CountryRegionName\", \"StateProvinceName\", \"City\",\n",
    "    \"BirthDate\", \"LastUpdated\"\n",
    "]\n",
    "df_sel = df[selected_features].copy()\n",
    "\n",
    "# Derive Age from BirthDate and LastUpdated\n",
    "def compute_age(row):\n",
    "    bd = pd.to_datetime(row[\"BirthDate\"], errors=\"coerce\")\n",
    "    ref = pd.to_datetime(row[\"LastUpdated\"], errors=\"coerce\")\n",
    "    if pd.isna(ref):\n",
    "        ref = pd.Timestamp.today().normalize()\n",
    "    if pd.isna(bd):\n",
    "        return None\n",
    "    return int((ref - bd).days / 365.25)\n",
    "\n",
    "df_sel[\"Age\"] = df_sel.apply(compute_age, axis=1)\n",
    "\n",
    "# Drop BirthDate now (Age replaces it)\n",
    "df_sel.drop(columns=[\"BirthDate\"], inplace=True)\n",
    "\n",
    "print(df_sel.head())\n"
   ]
  },
  {
   "cell_type": "markdown",
   "id": "b4141cba-aa6b-4352-8bce-4608883ca031",
   "metadata": {},
   "source": [
    "# part 2"
   ]
  },
  {
   "cell_type": "code",
   "execution_count": 6,
   "id": "aa49bf43-78d2-4e28-8706-a6d8ff5bf055",
   "metadata": {},
   "outputs": [
    {
     "name": "stderr",
     "output_type": "stream",
     "text": [
      "C:\\Users\\Win10\\AppData\\Local\\Temp\\ipykernel_6348\\2155529775.py:8: FutureWarning: A value is trying to be set on a copy of a DataFrame or Series through chained assignment using an inplace method.\n",
      "The behavior will change in pandas 3.0. This inplace method will never work because the intermediate object on which we are setting values always behaves as a copy.\n",
      "\n",
      "For example, when doing 'df[col].method(value, inplace=True)', try using 'df.method({col: value}, inplace=True)' or df[col] = df[col].method(value) instead, to perform the operation inplace on the original object.\n",
      "\n",
      "\n",
      "  df_proc[c].fillna(df_proc[c].median(), inplace=True)\n",
      "C:\\Users\\Win10\\AppData\\Local\\Temp\\ipykernel_6348\\2155529775.py:8: FutureWarning: A value is trying to be set on a copy of a DataFrame or Series through chained assignment using an inplace method.\n",
      "The behavior will change in pandas 3.0. This inplace method will never work because the intermediate object on which we are setting values always behaves as a copy.\n",
      "\n",
      "For example, when doing 'df[col].method(value, inplace=True)', try using 'df.method({col: value}, inplace=True)' or df[col] = df[col].method(value) instead, to perform the operation inplace on the original object.\n",
      "\n",
      "\n",
      "  df_proc[c].fillna(df_proc[c].median(), inplace=True)\n",
      "C:\\Users\\Win10\\AppData\\Local\\Temp\\ipykernel_6348\\2155529775.py:8: FutureWarning: A value is trying to be set on a copy of a DataFrame or Series through chained assignment using an inplace method.\n",
      "The behavior will change in pandas 3.0. This inplace method will never work because the intermediate object on which we are setting values always behaves as a copy.\n",
      "\n",
      "For example, when doing 'df[col].method(value, inplace=True)', try using 'df.method({col: value}, inplace=True)' or df[col] = df[col].method(value) instead, to perform the operation inplace on the original object.\n",
      "\n",
      "\n",
      "  df_proc[c].fillna(df_proc[c].median(), inplace=True)\n",
      "C:\\Users\\Win10\\AppData\\Local\\Temp\\ipykernel_6348\\2155529775.py:8: FutureWarning: A value is trying to be set on a copy of a DataFrame or Series through chained assignment using an inplace method.\n",
      "The behavior will change in pandas 3.0. This inplace method will never work because the intermediate object on which we are setting values always behaves as a copy.\n",
      "\n",
      "For example, when doing 'df[col].method(value, inplace=True)', try using 'df.method({col: value}, inplace=True)' or df[col] = df[col].method(value) instead, to perform the operation inplace on the original object.\n",
      "\n",
      "\n",
      "  df_proc[c].fillna(df_proc[c].median(), inplace=True)\n",
      "C:\\Users\\Win10\\AppData\\Local\\Temp\\ipykernel_6348\\2155529775.py:8: FutureWarning: A value is trying to be set on a copy of a DataFrame or Series through chained assignment using an inplace method.\n",
      "The behavior will change in pandas 3.0. This inplace method will never work because the intermediate object on which we are setting values always behaves as a copy.\n",
      "\n",
      "For example, when doing 'df[col].method(value, inplace=True)', try using 'df.method({col: value}, inplace=True)' or df[col] = df[col].method(value) instead, to perform the operation inplace on the original object.\n",
      "\n",
      "\n",
      "  df_proc[c].fillna(df_proc[c].median(), inplace=True)\n"
     ]
    },
    {
     "name": "stdout",
     "output_type": "stream",
     "text": [
      "Education               0\n",
      "Occupation              0\n",
      "Gender                  0\n",
      "MaritalStatus           0\n",
      "HomeOwnerFlag           0\n",
      "NumberCarsOwned         0\n",
      "NumberChildrenAtHome    0\n",
      "TotalChildren           0\n",
      "YearlyIncome            0\n",
      "CountryRegionName       0\n",
      "StateProvinceName       0\n",
      "City                    0\n",
      "LastUpdated             0\n",
      "Age                     0\n",
      "dtype: int64\n"
     ]
    }
   ],
   "source": [
    "df_proc=df_sel.copy()\n",
    "\n",
    "#DEFINE NUMERICAL AND CATEGORIAL COLUMNS \n",
    "numeric_cols = [\"YearlyIncome\", \"NumberCarsOwned\", \"NumberChildrenAtHome\", \"TotalChildren\", \"Age\"]\n",
    "categorical_cols = [c for c in df_proc.columns if c not in numeric_cols + [\"LastUpdated\"]]\n",
    "for c in numeric_cols:\n",
    "    df_proc[c] = pd.to_numeric(df_proc[c], errors=\"coerce\")\n",
    "    df_proc[c].fillna(df_proc[c].median(), inplace=True)\n",
    "\n",
    "for c in categorical_cols:\n",
    "    df_proc[c] = df_proc[c].astype(object).where(~df_proc[c].isna(), other=\"Unknown\")\n",
    "\n",
    "print(df_proc.isnull().sum()) \n"
   ]
  },
  {
   "cell_type": "code",
   "execution_count": 7,
   "id": "9a39f711-d56c-4351-9524-0356c56701c4",
   "metadata": {},
   "outputs": [
    {
     "name": "stdout",
     "output_type": "stream",
     "text": [
      "   YearlyIncome  IncomeBin  Age  AgeBin\n",
      "0         81916          3   29       0\n",
      "1         81076          3   44       1\n",
      "2         86387          3   31       1\n",
      "3         61481          2   39       1\n",
      "4         51804          1   42       1\n"
     ]
    }
   ],
   "source": [
    "df_proc[\"IncomeBin\"] = pd.qcut(df_proc[\"YearlyIncome\"], q=5, labels=False, duplicates=\"drop\")\n",
    "\n",
    "# Discretize Age into 5 equal-width bins\n",
    "df_proc[\"AgeBin\"] = pd.cut(df_proc[\"Age\"], bins=5, labels=False, include_lowest=True)\n",
    "\n",
    "print(df_proc[[\"YearlyIncome\", \"IncomeBin\", \"Age\", \"AgeBin\"]].head())\n"
   ]
  },
  {
   "cell_type": "code",
   "execution_count": 8,
   "id": "3cbfa2b9-9b23-4647-bd2c-afbdc48b73c6",
   "metadata": {},
   "outputs": [
    {
     "name": "stdout",
     "output_type": "stream",
     "text": [
      "   YearlyIncome  NumberCarsOwned  NumberChildrenAtHome  TotalChildren  \\\n",
      "0      0.496842              0.6              0.000000       0.333333   \n",
      "1      0.489453              0.4              0.333333       0.666667   \n",
      "2      0.536172              0.6              0.000000       0.000000   \n",
      "3      0.317083              0.4              0.333333       0.666667   \n",
      "4      0.231958              0.2              0.000000       0.000000   \n",
      "\n",
      "        Age  \n",
      "0  0.185714  \n",
      "1  0.400000  \n",
      "2  0.214286  \n",
      "3  0.328571  \n",
      "4  0.371429  \n"
     ]
    }
   ],
   "source": [
    "def min_max_scale(s):\n",
    "    return (s - s.min()) / (s.max() - s.min()) if s.max() != s.min() else 0\n",
    "\n",
    "df_minmax = df_proc[numeric_cols].apply(min_max_scale)\n",
    "print(df_minmax.head())\n"
   ]
  },
  {
   "cell_type": "code",
   "execution_count": 9,
   "id": "3637cd38-d000-4d67-8fe8-808d2266f124",
   "metadata": {},
   "outputs": [
    {
     "name": "stdout",
     "output_type": "stream",
     "text": [
      "   YearlyIncome  NumberCarsOwned  NumberChildrenAtHome  TotalChildren  \\\n",
      "0      0.298555         1.892524             -0.594371       0.161342   \n",
      "1      0.271180         0.798389              1.163279       1.239753   \n",
      "2      0.444261         1.892524             -0.594371      -0.917069   \n",
      "3     -0.367401         0.798389              1.163279       1.239753   \n",
      "4     -0.682765        -0.295746             -0.594371      -0.917069   \n",
      "\n",
      "        Age  \n",
      "0 -0.495997  \n",
      "1  0.836774  \n",
      "2 -0.318294  \n",
      "3  0.392517  \n",
      "4  0.659071  \n"
     ]
    }
   ],
   "source": [
    "def zscore(s):\n",
    "    return (s - s.mean()) / s.std(ddof=0) if s.std(ddof=0) != 0 else 0\n",
    "\n",
    "df_zscore = df_proc[numeric_cols].apply(zscore)\n",
    "print(df_zscore.head())\n"
   ]
  },
  {
   "cell_type": "code",
   "execution_count": 10,
   "id": "09a57a74-2d72-4d3d-8e48-64c686ce00da",
   "metadata": {},
   "outputs": [
    {
     "name": "stdout",
     "output_type": "stream",
     "text": [
      "   IncomeBin  AgeBin  Education_Bachelors  Education_Graduate Degree  \\\n",
      "0          3       0                    1                          0   \n",
      "1          3       1                    0                          0   \n",
      "2          3       1                    1                          0   \n",
      "3          2       1                    0                          0   \n",
      "4          1       1                    0                          0   \n",
      "\n",
      "   Education_High School  Education_Partial College  \\\n",
      "0                      0                          0   \n",
      "1                      0                          1   \n",
      "2                      0                          0   \n",
      "3                      0                          1   \n",
      "4                      0                          1   \n",
      "\n",
      "   Education_Partial High School  Occupation_Clerical  Occupation_Management  \\\n",
      "0                              0                    1                      0   \n",
      "1                              0                    1                      0   \n",
      "2                              0                    1                      0   \n",
      "3                              0                    0                      0   \n",
      "4                              0                    0                      0   \n",
      "\n",
      "   Occupation_Manual  ...  City_West Covina  City_West Sussex  \\\n",
      "0                  0  ...                 0                 0   \n",
      "1                  0  ...                 0                 0   \n",
      "2                  0  ...                 1                 0   \n",
      "3                  0  ...                 0                 0   \n",
      "4                  0  ...                 0                 0   \n",
      "\n",
      "   City_Westminster  City_Wokingham  City_Wollongong  City_Woodburn  \\\n",
      "0                 0               0                1              0   \n",
      "1                 0               0                0              0   \n",
      "2                 0               0                0              0   \n",
      "3                 0               0                0              0   \n",
      "4                 0               0                0              0   \n",
      "\n",
      "   City_Woodland Hills  City_Woolston  City_Yakima  City_York  \n",
      "0                    0              0            0          0  \n",
      "1                    0              0            0          0  \n",
      "2                    0              0            0          0  \n",
      "3                    0              0            0          0  \n",
      "4                    0              0            0          0  \n",
      "\n",
      "[5 rows x 347 columns]\n"
     ]
    }
   ],
   "source": [
    "categorical_for_ohe = [c for c in df_proc.columns if c not in numeric_cols + [\"LastUpdated\"]]\n",
    "df_ohe = pd.get_dummies(df_proc[categorical_for_ohe], drop_first=False, dtype=int)\n",
    "\n",
    "print(df_ohe.head())\n"
   ]
  },
  {
   "cell_type": "markdown",
   "id": "8f25ebff-61bb-4108-a8a1-33bec5bd5806",
   "metadata": {},
   "source": [
    "# part 3"
   ]
  },
  {
   "cell_type": "code",
   "execution_count": 11,
   "id": "702854f1-17e8-42bb-89a7-317b3a114e57",
   "metadata": {},
   "outputs": [],
   "source": [
    "# Numeric standardized\n",
    "X_numeric_std = df_zscore.copy()\n",
    "\n",
    "# Binary categorical\n",
    "X_binary = df_ohe.copy()\n",
    "\n",
    "# Full feature space (numeric + categorical)\n",
    "X_full = pd.concat([X_numeric_std, X_binary], axis=1)\n"
   ]
  },
  {
   "cell_type": "code",
   "execution_count": 12,
   "id": "aa2a5f7d-ad11-4581-a140-6aa339019516",
   "metadata": {},
   "outputs": [],
   "source": [
    "import numpy as np\n",
    "from math import sqrt\n",
    "\n",
    "def simple_matching_coefficient(x, y):\n",
    "    matches = np.sum(x == y)\n",
    "    return matches / len(x)\n",
    "\n",
    "def jaccard_similarity(x, y):\n",
    "    xb, yb = (x > 0).astype(int), (y > 0).astype(int)\n",
    "    intersection = np.sum((xb == 1) & (yb == 1))\n",
    "    union = np.sum((xb == 1) | (yb == 1))\n",
    "    return intersection / union if union != 0 else 0\n",
    "\n",
    "def cosine_similarity(x, y):\n",
    "    num = np.dot(x, y)\n",
    "    den = sqrt(np.dot(x, x)) * sqrt(np.dot(y, y))\n",
    "    return num / den if den != 0 else 0\n"
   ]
  },
  {
   "cell_type": "code",
   "execution_count": 13,
   "id": "3c8ff9ad-455c-4f13-8d15-487d8143a304",
   "metadata": {},
   "outputs": [
    {
     "name": "stdout",
     "output_type": "stream",
     "text": [
      "Simple Matching Coefficient: 0.9740634005763689\n",
      "Jaccard Similarity: 0.35714285714285715\n",
      "Cosine Similarity: 0.6279787104035389\n"
     ]
    }
   ],
   "source": [
    "i, j = 0, 1  \n",
    "\n",
    "x_bin_i, x_bin_j = X_binary.iloc[i].to_numpy(), X_binary.iloc[j].to_numpy()\n",
    "x_full_i, x_full_j = X_full.iloc[i].to_numpy(), X_full.iloc[j].to_numpy()\n",
    "\n",
    "smc = simple_matching_coefficient(x_bin_i, x_bin_j)\n",
    "jac = jaccard_similarity(x_bin_i, x_bin_j)\n",
    "cos = cosine_similarity(x_full_i, x_full_j)\n",
    "\n",
    "print(\"Simple Matching Coefficient:\", smc)\n",
    "print(\"Jaccard Similarity:\", jac)\n",
    "print(\"Cosine Similarity:\", cos)\n"
   ]
  },
  {
   "cell_type": "code",
   "execution_count": 15,
   "id": "97ce1bb3-2517-4940-a841-455f2ad7a630",
   "metadata": {},
   "outputs": [
    {
     "name": "stdout",
     "output_type": "stream",
     "text": [
      "Correlation (NumberCarsOwned ~ YearlyIncome): 0.4773001523631683\n"
     ]
    },
    {
     "data": {
      "image/png": "[encoded data removed]",
      "text/plain": [
       "<Figure size 640x480 with 1 Axes>"
      ]
     },
     "metadata": {},
     "output_type": "display_data"
    }
   ],
   "source": [
    "corr = df_proc[[\"NumberCarsOwned\", \"YearlyIncome\"]].corr().iloc[0,1]\n",
    "print(\"Correlation (NumberCarsOwned ~ YearlyIncome):\", corr)\n",
    "import matplotlib.pyplot as plt\n",
    "\n",
    "plt.scatter(df_proc[\"NumberCarsOwned\"], df_proc[\"YearlyIncome\"])\n",
    "plt.xlabel(\"Number of Cars Owned\")\n",
    "plt.ylabel(\"Yearly Income\")\n",
    "plt.title(\"Correlation between NumberCarsOwned and YearlyIncome\")\n",
    "plt.show()\n"
   ]
  },
  {
   "cell_type": "code",
   "execution_count": null,
   "id": "f1c6544b-2c37-4bc7-975d-35b40e41505b",
   "metadata": {},
   "outputs": [],
   "source": []
  }
 ],
 "metadata": {
  "kernelspec": {
   "display_name": "Python 3 (ipykernel)",
   "language": "python",
   "name": "python3"
  },
  "language_info": {
   "codemirror_mode": {
    "name": "ipython",
    "version": 3
   },
   "file_extension": ".py",
   "mimetype": "text/x-python",
   "name": "python",
   "nbconvert_exporter": "python",
   "pygments_lexer": "ipython3",
   "version": "3.13.2"
  }
 },
 "nbformat": 4,
 "nbformat_minor": 5
}
